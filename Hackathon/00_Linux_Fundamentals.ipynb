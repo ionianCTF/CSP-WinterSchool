{
  "cells": [
    {
      "cell_type": "markdown",
      "id": "HznDH_2dt5U1",
      "metadata": {
        "id": "HznDH_2dt5U1"
      },
      "source": [
        "# Hackathon 0: Linux Fundamentals\n",
        "\n",
        "This is a hands-on introduction walkthrough for getting familiar with Linux operating system and in general as an introduction to technical inforamtion before starting a Capture The Flag.\n",
        "\n",
        "The basic commands in Linux is of course browsing the folders etc. So open a terminal and run some commands to check the folders.\n",
        "\n",
        "The following command provides the list of files"
      ]
    },
    {
      "cell_type": "code",
      "source": [
        "!ls"
      ],
      "metadata": {
        "id": "sf0fpfFlHwuy"
      },
      "id": "sf0fpfFlHwuy",
      "execution_count": null,
      "outputs": []
    },
    {
      "cell_type": "markdown",
      "source": [
        "You can see in which folder you are right now."
      ],
      "metadata": {
        "id": "nrSpvxfKIDF1"
      },
      "id": "nrSpvxfKIDF1"
    },
    {
      "cell_type": "code",
      "source": [
        "!pwd"
      ],
      "metadata": {
        "id": "OWcSpRbqID3L"
      },
      "id": "OWcSpRbqID3L",
      "execution_count": null,
      "outputs": []
    },
    {
      "cell_type": "markdown",
      "source": [
        "To go one folder higher or deeper use cd"
      ],
      "metadata": {
        "id": "NialeQiSIXqD"
      },
      "id": "NialeQiSIXqD"
    },
    {
      "cell_type": "code",
      "source": [
        "!cd /content"
      ],
      "metadata": {
        "id": "X3uToYJKIcGD"
      },
      "id": "X3uToYJKIcGD",
      "execution_count": null,
      "outputs": []
    },
    {
      "cell_type": "code",
      "source": [
        "!ls"
      ],
      "metadata": {
        "id": "liudfjiwIoH4"
      },
      "id": "liudfjiwIoH4",
      "execution_count": null,
      "outputs": []
    },
    {
      "cell_type": "markdown",
      "source": [
        "Open the sample_data using nano or preview using one of the commands cat, head, tail"
      ],
      "metadata": {
        "id": "YJI0WORnIvII"
      },
      "id": "YJI0WORnIvII"
    },
    {
      "cell_type": "code",
      "source": [
        "!cd sample_data/"
      ],
      "metadata": {
        "id": "alicDx2_I6F7"
      },
      "id": "alicDx2_I6F7",
      "execution_count": null,
      "outputs": []
    },
    {
      "cell_type": "code",
      "execution_count": null,
      "id": "wC4hx92Bt5U3",
      "metadata": {
        "id": "wC4hx92Bt5U3"
      },
      "outputs": [],
      "source": [
        "!hostname"
      ]
    },
    {
      "cell_type": "markdown",
      "id": "AERbcs49u7hR",
      "metadata": {
        "id": "AERbcs49u7hR"
      },
      "source": [
        "Executing !hostname in Google Colab returns a string of characters like \"58fc39a04e6b\", which is the hostname of the virtual machine running the code. This string serves as a unique identifier for the virtual machine instance. In a normal Linux system the command will return the hostname of the machine, which is typically set during the system configuration. The hostname could be something like \"mycomputer\" or \"example.com\", depending on how the system administrator has configured it. It's usually a user-friendly name rather than a randomly generated string like in the case of Google Colab."
      ]
    },
    {
      "cell_type": "markdown",
      "id": "EKV2Y3pnt5U4",
      "metadata": {
        "id": "EKV2Y3pnt5U4"
      },
      "source": [
        "### Exercise 1: Verify the Hostname\n",
        "\n",
        "Run the `hostname` command on your own machine. What is the hostname of your computer?"
      ]
    },
    {
      "cell_type": "markdown",
      "id": "syARWkD-t5U4",
      "metadata": {
        "id": "syARWkD-t5U4"
      },
      "source": [
        "## 2. Understanding the System: Kernel Information\n",
        "\n",
        "### Command: `uname -a`\n",
        "```bash\n",
        "uname -a\n",
        "```\n",
        "The `uname -a` command provides comprehensive information about the system, including the kernel version, machine hardware name, processor type, and operating system. This information is crucial for identifying potential kernel vulnerabilities that could be exploited."
      ]
    },
    {
      "cell_type": "code",
      "execution_count": null,
      "id": "6XllNkLdt5U4",
      "metadata": {
        "id": "6XllNkLdt5U4"
      },
      "outputs": [],
      "source": [
        "!uname -a"
      ]
    },
    {
      "cell_type": "markdown",
      "id": "8PjaGzJCvPGu",
      "metadata": {
        "id": "8PjaGzJCvPGu"
      },
      "source": [
        "The command uname -a is a Unix/Linux command that retrieves system information about the operating system.\n",
        "\n",
        "1. Kernel Version: \"6.1.85+ #1 SMP PREEMPT_DYNAMIC\" - This indicates the version of the Linux kernel running on the system. The kernel is the core component of the operating system responsible for managing system resources and facilitating communication between software and hardware.\n",
        "\n",
        "2. System Time: \"Sun Apr 28 14:29:16 UTC 2024\" - This specifies the date and time when the kernel was built or when the system was last booted. In this case, the system was last booted on Sunday, April 28, 2024, at 14:29:16 UTC.\n",
        "\n",
        "3. Architecture: \"x86_64 x86_64 x86_64\" - This indicates the system architecture, which is x86_64. It means that the system is capable of running 64-bit software. The repetition of \"x86_64\" suggests that the system has multiple CPUs or CPU cores, all of which are 64-bit capable.\n",
        "\n",
        "4. Operating System: \"GNU/Linux\" - This specifies the operating system type. In this case, it's a Linux-based operating system."
      ]
    },
    {
      "cell_type": "markdown",
      "id": "3ETgWUIZt5U4",
      "metadata": {
        "id": "3ETgWUIZt5U4"
      },
      "source": [
        "## 3. Who Am I?\n",
        "\n",
        "### Command: `whoami`\n",
        "```bash\n",
        "whoami\n",
        "```\n",
        "The `whoami` command simply returns the username of the current user. This can be useful for quickly verifying your user identity, especially when switching between different accounts or using sudo."
      ]
    },
    {
      "cell_type": "code",
      "execution_count": null,
      "id": "bWgtZYHdt5U4",
      "metadata": {
        "id": "bWgtZYHdt5U4"
      },
      "outputs": [],
      "source": [
        "!whoami"
      ]
    },
    {
      "cell_type": "markdown",
      "id": "TXftmL7IvgMf",
      "metadata": {
        "id": "TXftmL7IvgMf"
      },
      "source": [
        "When the response returns as \"root,\" it denotes a significant level of authority. \"Root\" isn't merely a username; it symbolizes the superuser account, embodying the pinnacle of system access. As the superuser, one wields unparalleled control over the system's resources and functionalities. With the power to execute commands, modify critical system files, and administer user privileges, the root user stands as the ultimate arbiter of the system's fate. However, such omnipotence demands vigilance, as even a single erroneous command can have far-reaching consequences, potentially jeopardizing the stability and security of the entire system. Thus, while the root user commands immense authority, exercising it judiciously is paramount to ensuring the integrity and reliability of the system."
      ]
    },
    {
      "cell_type": "markdown",
      "id": "lI2YdFFrt5U4",
      "metadata": {
        "id": "lI2YdFFrt5U4"
      },
      "source": [
        "### Exercise 3: Check Current User\n",
        "\n",
        "Run the `whoami` command. What is the current username you are logged in with?"
      ]
    },
    {
      "cell_type": "markdown",
      "id": "D6jTuZxwt5U5",
      "metadata": {
        "id": "D6jTuZxwt5U5"
      },
      "source": [
        "## 4. Distribution Information\n",
        "\n",
        "### Command: `lsb_release -a`\n",
        "```bash\n",
        "lsb_release -a\n",
        "```\n",
        "The `lsb_release -a` command provides detailed information about the Linux distribution. This includes the distributor ID, description, release number, and codename. This information is essential for identifying the exact OS version in use."
      ]
    },
    {
      "cell_type": "code",
      "execution_count": null,
      "id": "Wdl5i__gt5U5",
      "metadata": {
        "id": "Wdl5i__gt5U5"
      },
      "outputs": [],
      "source": [
        "!lsb_release -a"
      ]
    },
    {
      "cell_type": "markdown",
      "id": "el_WA6Va9IRm",
      "metadata": {
        "id": "el_WA6Va9IRm"
      },
      "source": [
        "Google Colab, being a cloud-based service, doesn't include all the components and modules typically found in a full Linux distribution like LSB.\n",
        "\n",
        "---\n",
        "\n",
        "The Linux Standard Base (LSB) is a project initiated by the Linux Foundation to standardize the structure and components of Linux distributions. Its primary goal is to increase compatibility among different Linux distributions by defining a common set of standards and APIs (Application Programming Interfaces). This helps developers create software that can run seamlessly across various Linux distributions without needing to be modified for each specific distribution.\n",
        "\n",
        "Key components of the LSB include:\n",
        "\n",
        "1. Filesystem Hierarchy Standard (FHS): Defines the directory structure and organization of files within a Linux system, ensuring consistency across distributions.\n",
        "\n",
        "2. Binary Compatibility: Specifies standards for binary executables and libraries, enabling applications compiled on one LSB-compliant system to run on another without compatibility issues.\n",
        "\n",
        "3. Core Libraries: Defines a set of core libraries and APIs that must be present on LSB-compliant systems, ensuring a common foundation for software development.\n",
        "\n",
        "4. Command-line Interfaces (CLI): Specifies standard command-line utilities and options, promoting uniformity in how users interact with the system.\n",
        "\n",
        "5. Packaging Formats: Recommends packaging formats and tools for distributing software, facilitating software installation and management across distributions."
      ]
    },
    {
      "cell_type": "markdown",
      "id": "p2Rupgcqt5U5",
      "metadata": {
        "id": "p2Rupgcqt5U5"
      },
      "source": [
        "## 5. OS Release Information\n",
        "\n",
        "### Command: `cat /etc/*-release`\n",
        "```bash\n",
        "cat /etc/*-release\n",
        "```\n",
        "The `/etc/*-release` files contain release information for the operating system. These files can include details like the OS name, version, and more. They provide a broader range of details compared to `lsb_release`."
      ]
    },
    {
      "cell_type": "code",
      "execution_count": null,
      "id": "B2VJ1TA0t5U5",
      "metadata": {
        "id": "B2VJ1TA0t5U5"
      },
      "outputs": [],
      "source": [
        "!cat /etc/*-release"
      ]
    },
    {
      "cell_type": "markdown",
      "id": "qROv37rH9ZoL",
      "metadata": {
        "id": "qROv37rH9ZoL"
      },
      "source": [
        "* Distributor ID: Indicates that the distribution is Ubuntu.\n",
        "* Release: Specifies the version of Ubuntu (22.04).\n",
        "* Codename: Gives the code name of the Ubuntu release (Jammy).\n",
        "* Description/Pretty Name: Provides a detailed description of the Ubuntu version, including the LTS (Long-Term Support) designation and the code name.\n",
        "* Version ID: Specifies the version number of Ubuntu (22.04).\n",
        "* Version: Further details the version as 22.04.3 LTS (Jammy Jellyfish).\n",
        "* Version Codename: Reiterates the code name of the Ubuntu release (jammy).\n",
        "* ID/Like: Mentions that Ubuntu is similar to Debian, a popular Linux distribution.\n",
        "* Home URL/SUPPORT_URL/BUG_REPORT_URL/PRIVACY_POLICY_URL: Provide links for * Ubuntu's home page, support, bug reporting, and privacy policy.\n",
        "* UBUNTU_CODENAME: Again specifies the code name of the Ubuntu release (jammy)."
      ]
    },
    {
      "cell_type": "markdown",
      "id": "6TEmsXYrt5U5",
      "metadata": {
        "id": "6TEmsXYrt5U5"
      },
      "source": [
        "### Exercise 5: Check OS Release Information\n",
        "\n",
        "View the contents of `/etc/*-release` on your system. Compare this information with the output of `lsb_release -a`."
      ]
    },
    {
      "cell_type": "markdown",
      "id": "nG-iM0e9t5U5",
      "metadata": {
        "id": "nG-iM0e9t5U5"
      },
      "source": [
        "## 6. Kernel Version\n",
        "\n",
        "### Command: `uname -r`\n",
        "```bash\n",
        "uname -r\n",
        "```\n",
        "The `uname -r` command returns only the kernel version, making it a quick way to check the kernel version without the extra details provided by `uname -a`."
      ]
    },
    {
      "cell_type": "code",
      "execution_count": null,
      "id": "E-bLKE5rt5U5",
      "metadata": {
        "id": "E-bLKE5rt5U5"
      },
      "outputs": [],
      "source": [
        "!uname -r"
      ]
    },
    {
      "cell_type": "markdown",
      "id": "C7v7aoJ19rqh",
      "metadata": {
        "id": "C7v7aoJ19rqh"
      },
      "source": [
        "The kernel release version of the current operating system. In your provided output \"6.1.85+\", \"6.1.85\" represents the kernel version, and the additional \"+\" symbol typically indicates that the kernel version includes additional patches or modifications beyond the base version."
      ]
    },
    {
      "cell_type": "markdown",
      "id": "Jr5cdXIQt5U5",
      "metadata": {
        "id": "Jr5cdXIQt5U5"
      },
      "source": [
        "### Exercise 6: Check Kernel Version\n",
        "\n",
        "Run the `uname -r` command. What is the kernel version of your system?"
      ]
    },
    {
      "cell_type": "markdown",
      "id": "GvVPoNNjt5U5",
      "metadata": {
        "id": "GvVPoNNjt5U5"
      },
      "source": [
        "## 7. System Architecture\n",
        "\n",
        "### Command: `arch`\n",
        "```bash\n",
        "arch\n",
        "```\n",
        "The `arch` command displays the architecture of the machine, such as `x86_64` for 64-bit systems. This is useful for understanding the hardware capabilities of the system.\n",
        "\n",
        "Run this command to determine the system architecture:"
      ]
    },
    {
      "cell_type": "code",
      "execution_count": null,
      "id": "SVhmv23it5U6",
      "metadata": {
        "id": "SVhmv23it5U6"
      },
      "outputs": [],
      "source": [
        "!arch"
      ]
    },
    {
      "cell_type": "markdown",
      "id": "q70yllv89yWd",
      "metadata": {
        "id": "q70yllv89yWd"
      },
      "source": [
        "This means that your system supports 64-bit instructions and can run 64-bit software."
      ]
    },
    {
      "cell_type": "markdown",
      "id": "vSld5-WJt5U6",
      "metadata": {
        "id": "vSld5-WJt5U6"
      },
      "source": [
        "## 8. System Uptime\n",
        "\n",
        "### Command: `uptime`\n",
        "```bash\n",
        "uptime\n",
        "```\n",
        "The `uptime` command shows how long the system has been running, the number of users, and the system load averages. This can be useful for understanding the system's stability and current load.\n",
        "\n",
        "Use this command to check the system's uptime and load:"
      ]
    },
    {
      "cell_type": "code",
      "execution_count": null,
      "id": "ku6GONt3t5U6",
      "metadata": {
        "id": "ku6GONt3t5U6"
      },
      "outputs": [],
      "source": [
        "!uptime"
      ]
    },
    {
      "cell_type": "markdown",
      "id": "ONGWaxr897Oq",
      "metadata": {
        "id": "ONGWaxr897Oq"
      },
      "source": [
        "* Uptime: The system has been up\n",
        "* Users: Currently, there are no users logged in.\n",
        "* Load Average: The load average values represent the system load over the last 1, 5, and 15 minutes, respectively. In this case, the load averages are 0.35, 0.24, and 0.20. These numbers indicate the average number of processes that are either in a runnable state or waiting for CPU time over the specified time intervals. Lower load averages generally indicate a system that is not heavily loaded."
      ]
    },
    {
      "cell_type": "markdown",
      "id": "4bAS79Ogt5U6",
      "metadata": {
        "id": "4bAS79Ogt5U6"
      },
      "source": [
        "## 9. CPU Information\n",
        "\n",
        "### Command: `lscpu`\n",
        "```bash\n",
        "lscpu\n",
        "```\n",
        "The `lscpu` command provides detailed information about the CPU architecture, including the number of CPUs, threads, cores, sockets, and more. This information is crucial for performance tuning and understanding the processing power of the system.\n",
        "\n",
        "Use this command to gather detailed CPU information:"
      ]
    },
    {
      "cell_type": "code",
      "execution_count": null,
      "id": "sWcfIynAt5U6",
      "metadata": {
        "id": "sWcfIynAt5U6"
      },
      "outputs": [],
      "source": [
        "!lscpu"
      ]
    },
    {
      "cell_type": "markdown",
      "id": "iLjhFcv4t5U6",
      "metadata": {
        "id": "iLjhFcv4t5U6"
      },
      "source": [
        "## 10. Memory Usage\n",
        "\n",
        "### Command: `free -h`\n",
        "```bash\n",
        "free -h\n",
        "```\n",
        "The `free -h` command displays the system's memory usage in a human-readable format. It shows the total, used, and free memory, along with buffers and cache used by the kernel.\n",
        "\n",
        "Run this command to check the memory usage of the system:"
      ]
    },
    {
      "cell_type": "code",
      "execution_count": null,
      "id": "Nj7qJNGot5U6",
      "metadata": {
        "id": "Nj7qJNGot5U6"
      },
      "outputs": [],
      "source": [
        "!free -h"
      ]
    },
    {
      "cell_type": "markdown",
      "id": "H8exKhTqt5U6",
      "metadata": {
        "id": "H8exKhTqt5U6"
      },
      "source": [
        "## 11. Disk Usage\n",
        "\n",
        "### Command: `df -h`\n",
        "```bash\n",
        "df -h\n",
        "```\n",
        "The `df -h` command displays disk space usage in a human-readable format. It shows the total, used, and available space on all mounted filesystems.\n",
        "\n",
        "Use this command to check the disk usage on the system:"
      ]
    },
    {
      "cell_type": "code",
      "execution_count": null,
      "id": "GMK1ucjMt5U7",
      "metadata": {
        "id": "GMK1ucjMt5U7"
      },
      "outputs": [],
      "source": [
        "!df -h"
      ]
    },
    {
      "cell_type": "markdown",
      "id": "BDgL-Co8-dlz",
      "metadata": {
        "id": "BDgL-Co8-dlz"
      },
      "source": [
        "From the output you provided, it seems to list various filesystem types mounted on different directories within the Linux filesystem hierarchy. Here's a breakdown:\n",
        "\n",
        "1. overlay: This is likely the root filesystem (or \"/\" directory) of the system. It's utilizing the overlay filesystem, which is commonly used in containerization technologies like Docker.\n",
        "\n",
        "2. tmpfs: This is a temporary filesystem stored in the system's memory (RAM). It's often used for temporary files and directories that don't need to be persisted across reboots.\n",
        "\n",
        "3. shm: This is another temporary filesystem, specifically a shared memory filesystem. It's used for creating shared memory segments that can be accessed by multiple processes.\n",
        "\n",
        "4. /dev/root: This appears to be a block device filesystem mounted at the root directory (\"/\"). It's likely the primary filesystem for the system, containing the operating system and other essential files.\n",
        "\n",
        "5. /dev/sda1: This is a block device filesystem, typically representing a partition on a physical disk (such as a hard drive or SSD). It's mounted at the directory specified, providing additional storage space for the system.\n",
        "\n",
        "6. tmpfs: Another temporary filesystem stored in memory."
      ]
    },
    {
      "cell_type": "markdown",
      "id": "4Ab2TiGq-9mv",
      "metadata": {
        "id": "4Ab2TiGq-9mv"
      },
      "source": [
        "Linux (Debian distributions or Ubuntu) uses apt to simplify the process of software management on Debian-based Linux systems, providing users with a convenient and efficient way to install, update, and remove software packages.\n",
        "\n",
        "The first command, \"!apt update\", triggers an update of the package information sourced from the repositories configured on the system. This ensures that the user has access to the latest software updates and versions. Following this, the second command, \"!apt install hwinfo\", proceeds to install the \"hwinfo\" package using the \"apt\" package manager."
      ]
    },
    {
      "cell_type": "code",
      "execution_count": null,
      "id": "rrok5new_IcS",
      "metadata": {
        "id": "rrok5new_IcS"
      },
      "outputs": [],
      "source": [
        "!apt update\n",
        "!apt install hwinfo\n",
        "!apt install net-tools"
      ]
    },
    {
      "cell_type": "markdown",
      "id": "BmD9w5zst5U7",
      "metadata": {
        "id": "BmD9w5zst5U7"
      },
      "source": [
        "## 12. Hardware Information\n",
        "\n",
        "### Command: `hwinfo`\n",
        "```bash\n",
        "sudo hwinfo\n",
        "```\n",
        "The `hwinfo` command provides detailed information about the hardware present in the system. It includes details about CPU, memory, disks, network interfaces, and more. This command is often used for diagnosing hardware issues or for inventory purposes.\n",
        "\n",
        "Gather comprehensive hardware details using this command:"
      ]
    },
    {
      "cell_type": "code",
      "execution_count": null,
      "id": "D54eQtA9t5U7",
      "metadata": {
        "collapsed": true,
        "id": "D54eQtA9t5U7"
      },
      "outputs": [],
      "source": [
        "!sudo hwinfo"
      ]
    },
    {
      "cell_type": "markdown",
      "id": "xrMXYsk-t5U7",
      "metadata": {
        "id": "xrMXYsk-t5U7"
      },
      "source": [
        "## 13. Network Configuration\n",
        "\n",
        "### Command: `ifconfig`\n",
        "```bash\n",
        "sudo ifconfig\n",
        "```\n",
        "The `ifconfig` command displays the network configuration for all network interfaces on the system. It includes details about IP addresses, MAC addresses, and more. The ifconfig command is included in the package namely net-tools and provides a set of command-line tools for network monitoring and configuration.\n",
        "\n",
        "Check the network configuration using this command:"
      ]
    },
    {
      "cell_type": "code",
      "execution_count": null,
      "id": "pmIKWigct5U7",
      "metadata": {
        "id": "pmIKWigct5U7"
      },
      "outputs": [],
      "source": [
        "!sudo ifconfig"
      ]
    },
    {
      "cell_type": "markdown",
      "id": "M4kNh8rH_u9q",
      "metadata": {
        "id": "M4kNh8rH_u9q"
      },
      "source": [
        "The provided output details the configuration and statistics of the network interface \"eth0\". It reveals that the interface is currently active and operational, supporting broadcasting and multicast traffic. The IP address assigned to the interface is \"172.28.0.12\n",
        "\n",
        "The IP address \"172.28.0.12\" is often associated with Docker containers, especially when using Docker in a local development environment or within a containerized setup. Google Colab's backend infrastructure utilizes Docker or similar containerization technologies internally, and the reported IP address reflects this."
      ]
    },
    {
      "cell_type": "markdown",
      "id": "wNbtVKj5t5U7",
      "metadata": {
        "id": "wNbtVKj5t5U7"
      },
      "source": [
        "### Exercise 13: Inspect Network Configuration\n",
        "\n",
        "Run the `ifconfig` command. What network interfaces are available on your system, and what IP addresses are assigned to them?"
      ]
    },
    {
      "cell_type": "markdown",
      "id": "hCFHvQ-Qt5U7",
      "metadata": {
        "id": "hCFHvQ-Qt5U7"
      },
      "source": [
        "## 14. Network Statistics\n",
        "\n",
        "### Command: `netstat -an`\n",
        "```bash\n",
        "sudo netstat -an\n",
        "```\n",
        "The `netstat -an` command provides detailed information about network connections, including listening and established connections, along with their state.\n",
        "\n",
        "Use this command to analyze network statistics:"
      ]
    },
    {
      "cell_type": "code",
      "execution_count": null,
      "id": "2f5PFbJYt5U7",
      "metadata": {
        "id": "2f5PFbJYt5U7"
      },
      "outputs": [],
      "source": [
        "!sudo netstat -an"
      ]
    },
    {
      "cell_type": "markdown",
      "id": "4-X5kptRASon",
      "metadata": {
        "id": "4-X5kptRASon"
      },
      "source": [
        "The provided network socket entries illustrate the status of TCP connections on a system. The first line, \"tcp 0 0 172.28.0.12:6000 0.0.0.0:* LISTEN\", indicates that the system is actively listening for incoming connections on port 6000 of the local IP address \"172.28.0.12\". The IP address \"0.0.0.0\" denotes that it's listening on all available network interfaces. The second line, \"tcp 0 0 172.28.0.12:6000 172.28.0.12:60066 ESTABLISHED\", reveals an established connection between the local machine and a remote host located at IP address \"172.28.0.12\" on port \"60066\". This connection is in the \"ESTABLISHED\" state, indicating that data transfer is actively occurring between the local and remote hosts. Such information is vital for network administrators and system operators to monitor and manage network activity, ensuring the efficient functioning and security of the system."
      ]
    },
    {
      "cell_type": "markdown",
      "id": "d4_uuQyXAFhK",
      "metadata": {
        "id": "d4_uuQyXAFhK"
      },
      "source": [
        "For TCP connections, details include the protocol (TCP), the Receive and Send queues (Recv-Q and Send-Q), the local and foreign addresses, and the state of the connection. The state indicates whether the connection is listening for incoming requests, established, or in a time-wait state after closure.\n",
        "\n",
        "For UDP connections, only the local and foreign addresses are shown, along with the protocol (UDP).\n",
        "\n",
        "Additionally, the text presents active UNIX domain sockets, specifying the protocol (Unix), reference count, flags, type, state, and the corresponding file path for each socket.\n",
        "\n",
        "This summary provides a comprehensive snapshot of the network activity and socket usage on the system, facilitating network monitoring and troubleshooting tasks."
      ]
    },
    {
      "cell_type": "markdown",
      "id": "wcGsX5x7FHM0",
      "metadata": {
        "id": "wcGsX5x7FHM0"
      },
      "source": [
        "## 15. Environmental Variables\n",
        "\n",
        "\n",
        "The output of the env command provides a list of environment variables that are set in the current shell session, each specifying certain configurations and settings for the environment. For example, SHELL=/bin/bash indicates that the default shell for the session is Bash, a popular Unix shell. NV_LIBCUBLAS_VERSION=12.2.5.6-1 specifies the version of the NVIDIA cuBLAS library, a GPU-accelerated library for dense linear algebra computations, used for high-performance computing tasks. NVIDIA_VISIBLE_DEVICES=all signifies that all available NVIDIA GPU devices are accessible, which is particularly relevant in environments that support GPU acceleration, like Google Colab. Lastly, COLAB_JUPYTER_TRANSPORT=ipc indicates the transport mechanism used by Jupyter in Colab, where ipc (inter-process communication) is utilized for communication between processes. These environment variables configure and control various aspects of the system's behavior and resource usage, facilitating customized and efficient execution of tasks within the environment.\n",
        "\n"
      ]
    },
    {
      "cell_type": "code",
      "execution_count": null,
      "id": "erNjZgyaE9sG",
      "metadata": {
        "id": "erNjZgyaE9sG"
      },
      "outputs": [],
      "source": [
        "!env"
      ]
    },
    {
      "cell_type": "markdown",
      "source": [
        "## 16. PS command\n",
        "\n",
        "The ps command in Linux is used to display information about the currently running processes. It can provide a snapshot of the processes running at a given moment.\n",
        "\n",
        "Show all processes:\n",
        "\n",
        "```\n",
        "ps -e\n",
        "```\n",
        "\n",
        "```\n",
        "ps -A\n",
        "```\n",
        "\n",
        "Detailed information about all processes:\n",
        "```\n",
        "ps -ef\n",
        "```\n",
        "Show processes in a user-oriented format:\n",
        "```\n",
        "ps -u username\n",
        "```\n",
        "Display processes in full-format listing:\n",
        "```\n",
        "ps -f\n",
        "```\n",
        "Display processes by a specific user:\n",
        "\n",
        "```\n",
        "ps -u username\n",
        "```\n",
        "Show process tree:\n",
        "\n",
        "```\n",
        "ps -e --forest\n",
        "```\n",
        "\n",
        "Here’s an example script to monitor CPU and memory usage of processes:\n",
        "\n",
        "```\n",
        "#!/bin/sh\n",
        "\n",
        "echo \"Top CPU consuming processes:\"\n",
        "ps -eo pid,comm,%cpu --sort=-%cpu | head -n 10\n",
        "\n",
        "echo \"\"\n",
        "echo \"Top memory consuming processes:\"\n",
        "ps -eo pid,comm,%mem --sort=-%mem | head -n 10\n",
        "```"
      ],
      "metadata": {
        "id": "Y9Z4RwTvwRBg"
      },
      "id": "Y9Z4RwTvwRBg"
    },
    {
      "cell_type": "code",
      "source": [
        "!ps -e"
      ],
      "metadata": {
        "id": "bWHZgUWFfVDl"
      },
      "id": "bWHZgUWFfVDl",
      "execution_count": null,
      "outputs": []
    },
    {
      "cell_type": "code",
      "source": [
        "!ps -eo pid,comm,%cpu --sort=-%cpu | head -n 10"
      ],
      "metadata": {
        "id": "5RYfS9gWESyf"
      },
      "id": "5RYfS9gWESyf",
      "execution_count": null,
      "outputs": []
    },
    {
      "cell_type": "markdown",
      "source": [
        "## 17. Top command\n",
        "The top command in Linux provides a dynamic, real-time view of the system’s running processes, similar to the Task Manager in Windows. It displays system summary information and a list of processes or threads currently being managed by the Linux kernel.\n",
        "\n",
        "System Summary:\n",
        "- uptime: How long the system has been running.\n",
        "- users: Number of logged-in users.\n",
        "- load average: System load averages for the last 1, 5, and 15 minutes.\n",
        "- tasks: Total number of tasks and their states (running, sleeping, stopped, zombie).\n",
        "- CPU usage: Percentage of CPU time used by different categories (user, system, idle, etc.).\n",
        "- Memory usage: Total, used, free, and buffer/cache memory.\n",
        "- Swap usage: Total, used, and free swap space."
      ],
      "metadata": {
        "id": "JWomnv6PEa7d"
      },
      "id": "JWomnv6PEa7d"
    },
    {
      "cell_type": "code",
      "source": [
        "!top"
      ],
      "metadata": {
        "id": "K3utsXuLiXNm"
      },
      "id": "K3utsXuLiXNm",
      "execution_count": null,
      "outputs": []
    },
    {
      "cell_type": "code",
      "source": [
        "!apt install htop"
      ],
      "metadata": {
        "id": "NGg2ab2JigNM"
      },
      "id": "NGg2ab2JigNM",
      "execution_count": null,
      "outputs": []
    },
    {
      "cell_type": "markdown",
      "source": [
        "# 18. Netstat\n",
        "\n",
        "The netstat command in Linux provides information about network connections, routing tables, interface statistics, masquerade connections, and multicast memberships.\n",
        "\n",
        "List all active connections and listening ports:\n",
        "\n",
        "```\n",
        "netstat -a\n",
        "```\n",
        "Show only listening ports:\n",
        "\n",
        "```\n",
        "netstat -l\n",
        "```\n",
        "Display routing table:\n",
        "\n",
        "```\n",
        "netstat -r\n",
        "```\n",
        "Show network interface statistics:\n",
        "\n",
        "```\n",
        "netstat -i\n",
        "```\n",
        "Show extended information (includes user and inode):\n",
        "```\n",
        "netstat -e\n",
        "```\n",
        "Display TCP connections:\n",
        "```\n",
        "netstat -t\n",
        "```\n",
        "Display UDP connections:\n",
        "```\n",
        "netstat -u\n",
        "```\n",
        "Show raw socket connections:\n",
        "```\n",
        "netstat -w\n",
        "```\n",
        "Show summary statistics for each protocol:\n",
        "```\n",
        "netstat -s\n",
        "```"
      ],
      "metadata": {
        "id": "Po0ahg16E_9o"
      },
      "id": "Po0ahg16E_9o"
    },
    {
      "cell_type": "code",
      "source": [
        "!apt install net-tools"
      ],
      "metadata": {
        "id": "OVgSeYtKFG1f"
      },
      "id": "OVgSeYtKFG1f",
      "execution_count": null,
      "outputs": []
    },
    {
      "cell_type": "code",
      "source": [
        "!netstat -tuln"
      ],
      "metadata": {
        "id": "ojQAWbCLlQEQ"
      },
      "id": "ojQAWbCLlQEQ",
      "execution_count": null,
      "outputs": []
    },
    {
      "cell_type": "markdown",
      "source": [],
      "metadata": {
        "id": "7tR-R6y0GIdO"
      },
      "id": "7tR-R6y0GIdO"
    },
    {
      "cell_type": "markdown",
      "source": [
        "# 19. Sudo -l\n",
        "\n",
        "The sudo -l command in Linux is used to list the allowed (and forbidden) commands for the invoking user on the current host. This command helps users and administrators understand what commands the user can run with elevated privileges without actually running them."
      ],
      "metadata": {
        "id": "sXLSiXrPGM3B"
      },
      "id": "sXLSiXrPGM3B"
    },
    {
      "cell_type": "code",
      "source": [
        "!sudo -l"
      ],
      "metadata": {
        "id": "5FnH43k9uQO9"
      },
      "id": "5FnH43k9uQO9",
      "execution_count": null,
      "outputs": []
    },
    {
      "cell_type": "markdown",
      "source": [
        "The first ALL means that root can run commands as any user, including root and any other user on the system.\n",
        "The second ALL means that root can run commands as any group.\n",
        "ALL:\n",
        "\n",
        "The final ALL means that root can run any command."
      ],
      "metadata": {
        "id": "xxQBT2mBGfoF"
      },
      "id": "xxQBT2mBGfoF"
    },
    {
      "cell_type": "code",
      "source": [
        "!ps aux | grep sudo"
      ],
      "metadata": {
        "id": "2Qm5Zz6Yv4Jd"
      },
      "id": "2Qm5Zz6Yv4Jd",
      "execution_count": null,
      "outputs": []
    },
    {
      "cell_type": "markdown",
      "source": [
        "shows all processes related to sudo. This command uses ps aux to list all running processes and grep sudo to filter and display only those that include sudo in their command or output."
      ],
      "metadata": {
        "id": "eWyBLbjEGqMX"
      },
      "id": "eWyBLbjEGqMX"
    },
    {
      "cell_type": "code",
      "source": [
        "!ls -la /etc/cron.*"
      ],
      "metadata": {
        "id": "NZDDDgEev5M_"
      },
      "id": "NZDDDgEev5M_",
      "execution_count": null,
      "outputs": []
    },
    {
      "cell_type": "markdown",
      "source": [
        "ls: List directory contents.\n",
        "- -la: Use two options together:\n",
        "0 -l: Use a long listing format.\n",
        "- -a: Include hidden files (those starting with a dot .).\n",
        "- /etc/cron.*: Specifies the path and pattern to match files and directories:\n",
        "- /etc/: The directory where the search is focused.\n",
        "- cron.\\*: A wildcard pattern that matches any file or directory name starting with cron..\n",
        "\n",
        "The cron.* pattern typically matches the following files and directories in /etc:\n",
        "\n",
        "- /etc/crontab: The system-wide crontab file.\n",
        "- /etc/cron.d/: A directory where individual cron job files can be placed.\n",
        "- /etc/cron.daily/: A directory for scripts that are executed daily.\n",
        "- /etc/cron.hourly/: A directory for scripts that are executed hourly.\n",
        "- /etc/cron.monthly/: A directory for scripts that are executed monthly.\n",
        "- /etc/cron.weekly/: A directory for scripts that are executed weekly."
      ],
      "metadata": {
        "id": "idVXH3OiG01T"
      },
      "id": "idVXH3OiG01T"
    },
    {
      "cell_type": "markdown",
      "source": [
        "#20. Lynis\n",
        "Lynis is an open-source security auditing tool for Unix-based systems, including Linux and macOS. It helps system administrators and security professionals to perform in-depth security scans and audits, identify vulnerabilities, and provide recommendations for hardening the system."
      ],
      "metadata": {
        "id": "3wIuXILmHLxG"
      },
      "id": "3wIuXILmHLxG"
    },
    {
      "cell_type": "code",
      "source": [
        "!apt install lynis"
      ],
      "metadata": {
        "id": "dtuGL6W_xhvR"
      },
      "id": "dtuGL6W_xhvR",
      "execution_count": null,
      "outputs": []
    },
    {
      "cell_type": "code",
      "source": [
        "!sudo lynis audit system"
      ],
      "metadata": {
        "id": "eSBwBVK4HWhx"
      },
      "id": "eSBwBVK4HWhx",
      "execution_count": null,
      "outputs": []
    },
    {
      "cell_type": "markdown",
      "source": [
        "**Key Sections in Lynis Output:**\n",
        "- System Tools: Checks the presence and versions of essential security tools.\n",
        "- Boot and Services: Reviews boot loader files and running services.\n",
        "- Kernel Hardening: Examines kernel parameters and hardening options.\n",
        "- File Integrity: Checks for tools and configurations related to file integrity monitoring.\n",
        "- User Accounts: Inspects user account configurations and policies.\n",
        "- Malware Scanners: Looks for installed malware scanners and configurations.\n",
        "- Hardening Index: Provides an overall hardening score and suggests areas for improvement."
      ],
      "metadata": {
        "id": "FbkxfCx0HfKz"
      },
      "id": "FbkxfCx0HfKz"
    },
    {
      "cell_type": "markdown",
      "id": "lXWjs_3lt5U8",
      "metadata": {
        "id": "lXWjs_3lt5U8"
      },
      "source": [
        "## Conclusion\n",
        "\n",
        "In this guide, we've explored a variety of manual enumeration techniques using Linux commands. These techniques provide valuable insights into the target system's configuration, which is crucial for identifying potential vulnerabilities and securing the system against cyber threats.\n",
        "\n",
        "By mastering these commands and understanding their output, cybersecurity professionals can effectively assess the security posture of their systems and take proactive measures to mitigate risks."
      ]
    }
  ],
  "metadata": {
    "colab": {
      "provenance": []
    },
    "kernelspec": {
      "display_name": "Python 3",
      "language": "python",
      "name": "python3"
    },
    "language_info": {
      "codemirror_mode": {
        "name": "ipython",
        "version": 3
      },
      "file_extension": ".py",
      "mimetype": "text/x-python",
      "name": "python",
      "nbconvert_exporter": "python",
      "pygments_lexer": "ipython3",
      "version": "3.8.8"
    }
  },
  "nbformat": 4,
  "nbformat_minor": 5
}